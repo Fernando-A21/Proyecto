{
  "metadata": {
    "kernelspec": {
      "name": "python",
      "display_name": "Python (Pyodide)",
      "language": "python"
    },
    "language_info": {
      "codemirror_mode": {
        "name": "python",
        "version": 3
      },
      "file_extension": ".py",
      "mimetype": "text/x-python",
      "name": "python",
      "nbconvert_exporter": "python",
      "pygments_lexer": "ipython3",
      "version": "3.8"
    }
  },
  "nbformat_minor": 4,
  "nbformat": 4,
  "cells": [
    {
      "cell_type": "markdown",
      "source": "# Data Science Tools and Ecosystem",
      "metadata": {}
    },
    {
      "cell_type": "markdown",
      "source": "## In this Notebook, Data Science Tools and Ecosystem are Summarized\n",
      "metadata": {}
    },
    {
      "cell_type": "markdown",
      "source": "## Some of the popular languages that Data Science use are:\n1. Python  \n2. R  \n3. SQL  \n4. Julia  \n5. Scala",
      "metadata": {}
    },
    {
      "cell_type": "markdown",
      "source": "## Common Data Science Libraries  \n- NumPy  \n- pandas  \n- Matplotlib  \n- Seaborn  \n- Scikit-learn  \n- TensorFlow  \n- PyTorch",
      "metadata": {}
    },
    {
      "cell_type": "markdown",
      "source": "## Data Science Tools  \n\n| Tool              | Description                          |\n|-------------------|--------------------------------------|\n| Jupyter Notebook  | Interactive programming environment  |\n| GitHub            | Version control and collaboration    |\n| Tableau           | Data visualization tool              |\n| Excel             | Basic data analysis                  |\n| Google Colab      | Cloud-based notebooks                |",
      "metadata": {}
    },
    {
      "cell_type": "markdown",
      "source": "## Arithmetic Expressions Examples  \n- Addition: 5 + 3  \n- Subtraction: 10 - 4  \n- Multiplication: 6 * 7  \n- Division: 20 / 5",
      "metadata": {}
    },
    {
      "cell_type": "code",
      "source": "#Some arithmetic operations\nresult = (5 * 2) + 7\nprint(\"The result is:\", result)",
      "metadata": {
        "trusted": true
      },
      "outputs": [
        {
          "name": "stdout",
          "text": "The result is: 17\n",
          "output_type": "stream"
        }
      ],
      "execution_count": 1
    },
    {
      "cell_type": "code",
      "source": "#Mathematical operation to convert 498 minutes to hours\n498/60",
      "metadata": {
        "trusted": true
      },
      "outputs": [
        {
          "execution_count": 2,
          "output_type": "execute_result",
          "data": {
            "text/plain": "8.3"
          },
          "metadata": {}
        }
      ],
      "execution_count": 2
    },
    {
      "cell_type": "markdown",
      "source": "## Objectives\n- Learn the fundamentals of data science\n- Explore popular tools and languages\n- Perform basic operations in Python\n- Create markdown cells",
      "metadata": {}
    },
    {
      "cell_type": "markdown",
      "source": "### Author  \nFernando Alquinta Barco",
      "metadata": {}
    },
    {
      "cell_type": "code",
      "source": "",
      "metadata": {
        "trusted": true
      },
      "outputs": [],
      "execution_count": null
    }
  ]
}