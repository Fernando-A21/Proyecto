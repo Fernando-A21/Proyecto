{
  "metadata": {
    "kernelspec": {
      "name": "python",
      "display_name": "Python (Pyodide)",
      "language": "python"
    },
    "language_info": {
      "codemirror_mode": {
        "name": "python",
        "version": 3
      },
      "file_extension": ".py",
      "mimetype": "text/x-python",
      "name": "python",
      "nbconvert_exporter": "python",
      "pygments_lexer": "ipython3",
      "version": "3.8"
    }
  },
  "nbformat_minor": 4,
  "nbformat": 4,
  "cells": [
    {
      "cell_type": "markdown",
      "source": "# Final Project – Introduction to Data Science",
      "metadata": {}
    },
    {
      "cell_type": "markdown",
      "source": "## Introduction  \nThis notebook contains key elements of data science, including the most commonly used languages, libraries, tools, and basic examples of arithmetic operations in Python.",
      "metadata": {}
    },
    {
      "cell_type": "markdown",
      "source": "## Data Science Languages  \n1. Python  \n2. R  \n3. SQL  \n4. Julia  \n5. Scala",
      "metadata": {}
    },
    {
      "cell_type": "markdown",
      "source": "## Common Data Science Libraries  \n- NumPy  \n- pandas  \n- Matplotlib  \n- Seaborn  \n- Scikit-learn  \n- TensorFlow  \n- PyTorch",
      "metadata": {}
    },
    {
      "cell_type": "markdown",
      "source": "## Data Science Tools  \n\n| Tool              | Description                          |\n|-------------------|--------------------------------------|\n| Jupyter Notebook  | Interactive programming environment  |\n| GitHub            | Version control and collaboration    |\n| Tableau           | Data visualization tool              |\n| Excel             | Basic data analysis                  |\n| Google Colab      | Cloud-based notebooks                |",
      "metadata": {}
    },
    {
      "cell_type": "markdown",
      "source": "## Arithmetic Expressions Examples  \n- Addition: 5 + 3  \n- Subtraction: 10 - 4  \n- Multiplication: 6 * 7  \n- Division: 20 / 5",
      "metadata": {}
    },
    {
      "cell_type": "code",
      "source": "#Some arithmetic operations\na = 5\nb = 3\nc = 9\nd = 9\nresult = (a * b) + 10\nresult1 = c*d\nprint(\"The result is:\", result)\nprint(\"The result is:\", result1)",
      "metadata": {
        "trusted": true
      },
      "outputs": [
        {
          "name": "stdout",
          "text": "The result is: 25\nThe result is: 81\n",
          "output_type": "stream"
        }
      ],
      "execution_count": 4
    },
    {
      "cell_type": "code",
      "source": "#Mathematical operation to convert minutes to hours\nminutes = 498\nhours = minutes / 60\nprint(\"498 minutes equals\", hours, \"hours\")",
      "metadata": {
        "trusted": true
      },
      "outputs": [
        {
          "name": "stdout",
          "text": "498 minutes equals 8.3 hours\n",
          "output_type": "stream"
        }
      ],
      "execution_count": 2
    },
    {
      "cell_type": "code",
      "source": "#Some ordered objectives are shown#\nobjectives = [\n    \"Learn the fundamentals of data science\",\n    \"Explore popular tools and languages\",\n    \"Perform basic operations in Python\"\n]\n\nfor i, obj in enumerate(objectives, 1):\n    print(f\"Objective {i}: {obj}\")",
      "metadata": {
        "trusted": true
      },
      "outputs": [
        {
          "name": "stdout",
          "text": "Objective 1: Learn the fundamentals of data science\nObjective 2: Explore popular tools and languages\nObjective 3: Perform basic operations in Python\n",
          "output_type": "stream"
        }
      ],
      "execution_count": 5
    },
    {
      "cell_type": "markdown",
      "source": "### Author  \n*Fernando Alquinta Barco:* Data Science Student  ",
      "metadata": {}
    },
    {
      "cell_type": "code",
      "source": "",
      "metadata": {
        "trusted": true
      },
      "outputs": [],
      "execution_count": null
    }
  ]
}